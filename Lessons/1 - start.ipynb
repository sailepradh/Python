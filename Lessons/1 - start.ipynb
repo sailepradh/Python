{
 "cells": [
  {
   "cell_type": "markdown",
   "metadata": {
    "deletable": true,
    "editable": true
   },
   "source": [
    "<nav style=\"box-sizing:border-box;background-color:#2b5b84;background:linear-gradient(0deg, white 0%, #2b5b84 5%);padding:1em 3em;line-height:1.4;display:flex;justify-content:center;align-items:center;font-size:1em;\">\n",
    "\t    <a href=\"https://www.scilifelab.se/education/courses/\" style=\"text-decoration:none;display:inline-block;margin-right:auto;border:0;\">\n",
    "\t      <img src=\"https://nbisweden.github.io/PythonCourse/img/scilifelab.png\" alt=\"SciLifeLab courses\" height=\"50px\" />\n",
    "\t    </a>\n",
    "\t    <a href=\"https://nbisweden.github.io/PythonCourse/vt17/\" style=\"text-decoration:none;display:inline-block;color:#ffffff;padding:0.3em 1em;background:#3c3c3c;background:linear-gradient(0deg, #3c3c3c 0%, #222 50%, #3c3c3c 100%);border-radius:1ex 0 0 1ex;border:1px solid #080808;\"><i class=\"fa fa-fw fa-home\"></i> Home</a>\n",
    "\t    <a  href=\"https://nbisweden.github.io/PythonCourse/vt17/topics\" style=\"text-decoration:none;display:inline-block;border:1px solid #080808;border-left:0;color:#ffffff;padding:0.3em 1em;background:#3c3c3c;background:linear-gradient(0deg, #3c3c3c 0%, #222 50%, #3c3c3c 100%);\">\n",
    "\t      <i class=\"fa fa-fw fa-tasks\"></i> Topics\n",
    "\t    </a>\n",
    "\t    <a  href=\"https://nbisweden.github.io/PythonCourse/vt17/project\" style=\"text-decoration:none;display:inline-block;border:1px solid #080808;border-left:0;color:#ffffff;padding:0.3em 1em;background:#3c3c3c;background:linear-gradient(0deg, #3c3c3c 0%, #222 50%, #3c3c3c 100%);\">\n",
    "\t      <i class=\"fa fa-briefcase\"></i> Project\n",
    "\t    </a>\n",
    "\t    <a  href=\"https://nbisweden.github.io/PythonCourse/vt17/preliminary\" style=\"text-decoration:none;display:inline-block;border:1px solid #080808;border-left:0;color:#ffffff;padding:0.3em 1em;background:#3c3c3c;background:linear-gradient(0deg, #3c3c3c 0%, #222 50%, #3c3c3c 100%);\">\n",
    "\t      <i class=\"fa fa-fw fa-hourglass-start\"></i> Preliminaries\n",
    "\t    </a>\n",
    "\t    <a  href=\"https://nbisweden.github.io/PythonCourse/vt17/help\" style=\"text-decoration:none;display:inline-block;border:1px solid #080808;border-left:0;color:#ffffff;padding:0.3em 1em;background:#3c3c3c;background:linear-gradient(0deg, #3c3c3c 0%, #222 50%, #3c3c3c 100%);border-radius:0 1ex 1ex 0;\">\n",
    "\t      <i class=\"fa fa-fw fa-support\"></i> Help\n",
    "\t    </a>\n",
    "\t    <a href=\"https://nbis.se\" style=\"text-decoration:none;display:inline-block;margin-left:auto;border:0;\">\n",
    "\t      <img src=\"https://nbisweden.github.io/PythonCourse/img/nbis.png\" alt=\"NBIS\" height=\"50px\" />\n",
    "\t    </a>\n",
    "</nav>\n",
    "\n",
    "<h1 style=\"text-align:center\">Introduction to Python<small> - VT17</small></h1>\n",
    "\n",
    "Jupyter Notebooks are used to save the terminal output from the commands we potentially demonstrated in class.\n",
    "\n",
    "It conveniently allows you to re-run the session.\n",
    "\n",
    "You can also open a terminal, and start your `python` interpreter, by issuing the command:\n",
    "\n",
    "```\n",
    "$ python\n",
    "Python 3.5.0 (default, Sep 25 2015, 16:02:14)\n",
    "...\n",
    ">>>\n",
    "```\n",
    "\n",
    "----\n",
    "\n",
    "## Numbers"
   ]
  },
  {
   "cell_type": "code",
   "execution_count": null,
   "metadata": {
    "collapsed": false,
    "deletable": true,
    "editable": true
   },
   "outputs": [],
   "source": [
    "2 + 2"
   ]
  },
  {
   "cell_type": "code",
   "execution_count": null,
   "metadata": {
    "collapsed": false,
    "deletable": true,
    "editable": true
   },
   "outputs": [],
   "source": [
    "10 / 4 # Returns a floating point number"
   ]
  },
  {
   "cell_type": "code",
   "execution_count": null,
   "metadata": {
    "collapsed": false,
    "deletable": true,
    "editable": true
   },
   "outputs": [],
   "source": [
    "50 - 5*6"
   ]
  },
  {
   "cell_type": "code",
   "execution_count": null,
   "metadata": {
    "collapsed": false,
    "deletable": true,
    "editable": true
   },
   "outputs": [],
   "source": [
    "(50 - 5*6) / 4"
   ]
  },
  {
   "cell_type": "code",
   "execution_count": null,
   "metadata": {
    "collapsed": false
   },
   "outputs": [],
   "source": [
    "5 ** 2 # square"
   ]
  },
  {
   "cell_type": "code",
   "execution_count": null,
   "metadata": {
    "collapsed": true
   },
   "outputs": [],
   "source": [
    "2 ** 7 # 2 to the power of 7"
   ]
  },
  {
   "cell_type": "code",
   "execution_count": null,
   "metadata": {
    "collapsed": false
   },
   "outputs": [],
   "source": [
    "# First variables\n",
    "width = 20\n",
    "height = 5 * 9\n",
    "width * height"
   ]
  },
  {
   "cell_type": "code",
   "execution_count": null,
   "metadata": {
    "collapsed": false
   },
   "outputs": [],
   "source": [
    "v # accessing (non-existing) variable v"
   ]
  },
  {
   "cell_type": "markdown",
   "metadata": {},
   "source": [
    "---\n",
    "## Strings"
   ]
  },
  {
   "cell_type": "code",
   "execution_count": null,
   "metadata": {
    "collapsed": true
   },
   "outputs": [],
   "source": [
    "'Hello World!'"
   ]
  },
  {
   "cell_type": "markdown",
   "metadata": {},
   "source": [
    "\"Hello World!\""
   ]
  },
  {
   "cell_type": "code",
   "execution_count": null,
   "metadata": {
    "collapsed": true
   },
   "outputs": [],
   "source": [
    "'Oh, no, you didn\\'t...'"
   ]
  },
  {
   "cell_type": "code",
   "execution_count": null,
   "metadata": {
    "collapsed": true
   },
   "outputs": [],
   "source": [
    "\"\\\"Yes\\\", I did!\""
   ]
  },
  {
   "cell_type": "code",
   "execution_count": null,
   "metadata": {
    "collapsed": false
   },
   "outputs": [],
   "source": [
    "'Hello'          ' '         'World'             '!'"
   ]
  },
  {
   "cell_type": "markdown",
   "metadata": {},
   "source": [
    "Special characters, like newline or tab, are backslashed"
   ]
  },
  {
   "cell_type": "code",
   "execution_count": null,
   "metadata": {
    "collapsed": true
   },
   "outputs": [],
   "source": [
    "s = 'Hello\\tWorld'\n",
    "s         # shows the content of s only\n",
    "print(s)  # renders the content of s"
   ]
  },
  {
   "cell_type": "code",
   "execution_count": null,
   "metadata": {
    "collapsed": false
   },
   "outputs": [],
   "source": [
    "s = 'First line.\\nSecond line.'  # \\n means newline\n",
    "s  # without print(), \\n is included in the output"
   ]
  },
  {
   "cell_type": "code",
   "execution_count": null,
   "metadata": {
    "collapsed": false
   },
   "outputs": [],
   "source": [
    "print(s)  # with print(), \\n produces a new line"
   ]
  },
  {
   "cell_type": "markdown",
   "metadata": {},
   "source": [
    "If you don’t want characters prefaced by \\ to be interpreted as special characters, you can use _raw strings_ by adding an `r` before the first quote:"
   ]
  },
  {
   "cell_type": "code",
   "execution_count": null,
   "metadata": {
    "collapsed": true
   },
   "outputs": [],
   "source": [
    "folder = 'C:\\some\\name'\n",
    "print(folder) # here \\n means newline!"
   ]
  },
  {
   "cell_type": "code",
   "execution_count": null,
   "metadata": {
    "collapsed": true
   },
   "outputs": [],
   "source": [
    "folder = r'C:\\some\\name'  # note the r before the quote\n",
    "print(folder)"
   ]
  },
  {
   "cell_type": "code",
   "execution_count": null,
   "metadata": {
    "collapsed": false
   },
   "outputs": [],
   "source": [
    "usage = \"\"\"\\\n",
    "Usage: thingy [OPTIONS]\n",
    "    -h            Displays this usage message.\n",
    "    -v version    Prints the version number of this program and exits.\n",
    "     \n",
    "More useful options\n",
    "-------------------\n",
    "    -a            ...\n",
    "    -b            ...\n",
    "\"\"\"\n",
    "print(usage)"
   ]
  },
  {
   "cell_type": "markdown",
   "metadata": {},
   "source": [
    "End of lines (EOL) are automatically included in the string, but it’s possible to prevent this by adding a \\ at the end of the line."
   ]
  },
  {
   "cell_type": "code",
   "execution_count": null,
   "metadata": {
    "collapsed": true
   },
   "outputs": [],
   "source": [
    "# Repeating strings\n",
    "# 3 times 'miam', preceded by 'hmm'\n",
    "'hmm' + 3 * 'miam'"
   ]
  },
  {
   "cell_type": "code",
   "execution_count": null,
   "metadata": {
    "collapsed": true
   },
   "outputs": [],
   "source": [
    "'Py' 'thon' # and they shall be one!"
   ]
  },
  {
   "cell_type": "code",
   "execution_count": null,
   "metadata": {
    "collapsed": true
   },
   "outputs": [],
   "source": [
    "prefix = 'Py'\n",
    "prefix 'thon'"
   ]
  },
  {
   "cell_type": "markdown",
   "metadata": {},
   "source": [
    "This only works with two literals though, not with variables or expressions:"
   ]
  },
  {
   "cell_type": "code",
   "execution_count": null,
   "metadata": {
    "collapsed": true
   },
   "outputs": [],
   "source": [
    "prefix = 'Py'\n",
    "prefix + 'thon' # Concatenation. Note: it is a new string"
   ]
  },
  {
   "cell_type": "markdown",
   "metadata": {},
   "source": [
    "This feature is particularly useful when you want to break long strings:"
   ]
  },
  {
   "cell_type": "code",
   "execution_count": null,
   "metadata": {
    "collapsed": false
   },
   "outputs": [],
   "source": [
    "text = ('Put several strings within parentheses '\n",
    "        'to have them joined together, '\n",
    "        'and avoid the use of '\n",
    "        'backslash at EOL')\n",
    "# Note the indentation and spaces do not matter inside the ( ) delimeters\n",
    "text"
   ]
  },
  {
   "cell_type": "markdown",
   "metadata": {},
   "source": [
    "Strings can be indexed (ie characters can be fetched using their position in the string)"
   ]
  },
  {
   "cell_type": "code",
   "execution_count": null,
   "metadata": {
    "collapsed": false
   },
   "outputs": [],
   "source": [
    "word = 'Supercalifragilisticexpialidocious'"
   ]
  },
  {
   "cell_type": "code",
   "execution_count": null,
   "metadata": {
    "collapsed": true
   },
   "outputs": [],
   "source": [
    "word[5]"
   ]
  },
  {
   "cell_type": "code",
   "execution_count": null,
   "metadata": {
    "collapsed": false
   },
   "outputs": [],
   "source": [
    "word[15]"
   ]
  },
  {
   "cell_type": "code",
   "execution_count": null,
   "metadata": {
    "collapsed": false
   },
   "outputs": [],
   "source": [
    "word[0]"
   ]
  },
  {
   "cell_type": "code",
   "execution_count": null,
   "metadata": {
    "collapsed": true
   },
   "outputs": [],
   "source": [
    "word[2000]"
   ]
  },
  {
   "cell_type": "code",
   "execution_count": null,
   "metadata": {
    "collapsed": false
   },
   "outputs": [],
   "source": [
    "word[-3]"
   ]
  },
  {
   "cell_type": "code",
   "execution_count": null,
   "metadata": {
    "collapsed": true
   },
   "outputs": [],
   "source": [
    "word[0] = 's' # Nope. Strings are immutable"
   ]
  },
  {
   "cell_type": "markdown",
   "metadata": {},
   "source": [
    "<table style=\"border-collapse: collapse;border:0;\">\n",
    "<tr>\n",
    "<td style=\"border: 1px solid black;text-align:center; padding:0.2em;min-width:2em\">S</td>\n",
    "<td style=\"border: 1px solid black;text-align:center; padding:0.2em;min-width:2em\">u</td>\n",
    "<td style=\"border: 1px solid black;text-align:center; padding:0.2em;min-width:2em\">p</td>\n",
    "<td style=\"border: 1px solid black;text-align:center; padding:0.2em;min-width:2em\">e</td>\n",
    "<td style=\"border: 1px solid black;text-align:center; padding:0.2em;min-width:2em\">r</td>\n",
    "<td style=\"border: 1px solid black;text-align:center; padding:0.2em;min-width:2em\">c</td>\n",
    "<td style=\"border: 1px solid black;text-align:center; padding:0.2em;min-width:2em\">a</td>\n",
    "<td style=\"border: 1px solid black;text-align:center; padding:0.2em;min-width:2em\">l</td>\n",
    "<td style=\"border: 1px solid black;text-align:center; padding:0.2em;min-width:2em\">i</td>\n",
    "<td style=\"border: 1px solid black;text-align:center; padding:0.2em;min-width:2em\">f</td>\n",
    "<td style=\"border: 1px solid black;text-align:center; padding:0.2em;min-width:2em\">r</td>\n",
    "<td style=\"border: 1px solid black;text-align:center; padding:0.2em;min-width:2em\">a</td>\n",
    "<td style=\"border: 1px solid black;text-align:center; padding:0.2em;min-width:2em\">g</td>\n",
    "<td style=\"border: 1px solid black;text-align:center; padding:0.2em;min-width:2em\">i</td>\n",
    "<td style=\"border: 1px solid black;text-align:center; padding:0.2em;min-width:2em\">l</td>\n",
    "<td style=\"border: 1px solid black;text-align:center; padding:0.2em;min-width:2em\">i</td>\n",
    "<td style=\"border: 1px solid black;text-align:center; padding:0.2em;min-width:2em\">s</td>\n",
    "<td style=\"border: 1px solid black;text-align:center; padding:0.2em;min-width:2em\">t</td>\n",
    "<td style=\"border: 1px solid black;text-align:center; padding:0.2em;min-width:2em\">i</td>\n",
    "<td style=\"border: 1px solid black;text-align:center; padding:0.2em;min-width:2em\">c</td>\n",
    "<td style=\"border: 1px solid black;text-align:center; padding:0.2em;min-width:2em\">e</td>\n",
    "<td style=\"border: 1px solid black;text-align:center; padding:0.2em;min-width:2em\">x</td>\n",
    "<td style=\"border: 1px solid black;text-align:center; padding:0.2em;min-width:2em\">p</td>\n",
    "<td style=\"border: 1px solid black;text-align:center; padding:0.2em;min-width:2em\">i</td>\n",
    "<td style=\"border: 1px solid black;text-align:center; padding:0.2em;min-width:2em\">a</td>\n",
    "<td style=\"border: 1px solid black;text-align:center; padding:0.2em;min-width:2em\">l</td>\n",
    "<td style=\"border: 1px solid black;text-align:center; padding:0.2em;min-width:2em\">i</td>\n",
    "<td style=\"border: 1px solid black;text-align:center; padding:0.2em;min-width:2em\">d</td>\n",
    "<td style=\"border: 1px solid black;text-align:center; padding:0.2em;min-width:2em\">o</td>\n",
    "<td style=\"border: 1px solid black;text-align:center; padding:0.2em;min-width:2em\">c</td>\n",
    "<td style=\"border: 1px solid black;text-align:center; padding:0.2em;min-width:2em\">i</td>\n",
    "<td style=\"border: 1px solid black;text-align:center; padding:0.2em;min-width:2em\">o</td>\n",
    "<td style=\"border: 1px solid black;text-align:center; padding:0.2em;min-width:2em\">u</td>\n",
    "<td style=\"border: 1px solid black;text-align:center; padding:0.2em;min-width:2em\">s</td>\n",
    "</tr>\n",
    "<tr style=\"border:0;\">\n",
    "<td style=\"border:0;text-align:center; padding:0.2em;min-width:2em;position:relative;left:-1em\">0</td>\n",
    "<td style=\"border:0;text-align:center; padding:0.2em;min-width:2em;position:relative;left:-1em\">1</td>\n",
    "<td style=\"border:0;text-align:center; padding:0.2em;min-width:2em;position:relative;left:-1em\">2</td>\n",
    "<td style=\"border:0;text-align:center; padding:0.2em;min-width:2em;position:relative;left:-1em\">3</td>\n",
    "<td style=\"border:0;text-align:center; padding:0.2em;min-width:2em;position:relative;left:-1em\">4</td>\n",
    "<td style=\"border:0;text-align:center; padding:0.2em;min-width:2em;position:relative;left:-1em\">5</td>\n",
    "<td style=\"border:0;text-align:center; padding:0.2em;min-width:2em;position:relative;left:-1em\">6</td>\n",
    "<td style=\"border:0;text-align:center; padding:0.2em;min-width:2em;position:relative;left:-1em\">7</td>\n",
    "<td style=\"border:0;text-align:center; padding:0.2em;min-width:2em;position:relative;left:-1em\">8</td>\n",
    "<td style=\"border:0;text-align:center; padding:0.2em;min-width:2em;position:relative;left:-1em\">9</td>\n",
    "<td style=\"border:0;text-align:center; padding:0.2em;min-width:2em;position:relative;left:-1em\">10</td>\n",
    "<td style=\"border:0;text-align:center; padding:0.2em;min-width:2em;position:relative;left:-1em\">11</td>\n",
    "<td style=\"border:0;text-align:center; padding:0.2em;min-width:2em;position:relative;left:-1em\">12</td>\n",
    "<td style=\"border:0;text-align:center; padding:0.2em;min-width:2em;position:relative;left:-1em\">13</td>\n",
    "<td style=\"border:0;text-align:center; padding:0.2em;min-width:2em;position:relative;left:-1em\">14</td>\n",
    "<td style=\"border:0;text-align:center; padding:0.2em;min-width:2em;position:relative;left:-1em\">15</td>\n",
    "<td style=\"border:0;text-align:center; padding:0.2em;min-width:2em;position:relative;left:-1em\">16</td>\n",
    "<td style=\"border:0;text-align:center; padding:0.2em;min-width:2em;position:relative;left:-1em\">17</td>\n",
    "<td style=\"border:0;text-align:center; padding:0.2em;min-width:2em;position:relative;left:-1em\">18</td>\n",
    "<td style=\"border:0;text-align:center; padding:0.2em;min-width:2em;position:relative;left:-1em\">19</td>\n",
    "<td style=\"border:0;text-align:center; padding:0.2em;min-width:2em;position:relative;left:-1em\">20</td>\n",
    "<td style=\"border:0;text-align:center; padding:0.2em;min-width:2em;position:relative;left:-1em\">21</td>\n",
    "<td style=\"border:0;text-align:center; padding:0.2em;min-width:2em;position:relative;left:-1em\">22</td>\n",
    "<td style=\"border:0;text-align:center; padding:0.2em;min-width:2em;position:relative;left:-1em\">23</td>\n",
    "<td style=\"border:0;text-align:center; padding:0.2em;min-width:2em;position:relative;left:-1em\">24</td>\n",
    "<td style=\"border:0;text-align:center; padding:0.2em;min-width:2em;position:relative;left:-1em\">25</td>\n",
    "<td style=\"border:0;text-align:center; padding:0.2em;min-width:2em;position:relative;left:-1em\">26</td>\n",
    "<td style=\"border:0;text-align:center; padding:0.2em;min-width:2em;position:relative;left:-1em\">27</td>\n",
    "<td style=\"border:0;text-align:center; padding:0.2em;min-width:2em;position:relative;left:-1em\">28</td>\n",
    "<td style=\"border:0;text-align:center; padding:0.2em;min-width:2em;position:relative;left:-1em\">29</td>\n",
    "<td style=\"border:0;text-align:center; padding:0.2em;min-width:2em;position:relative;left:-1em\">30</td>\n",
    "<td style=\"border:0;text-align:center; padding:0.2em;min-width:2em;position:relative;left:-1em\">31</td>\n",
    "<td style=\"border:0;text-align:center; padding:0.2em;min-width:2em;position:relative;left:-1em\">32</td>\n",
    "<td style=\"border:0;text-align:center; padding:0.2em;min-width:2em;position:relative;left:-1em\">33</td>\n",
    "</tr>\n",
    "<tr style=\"border:0;\">\n",
    "<td style=\"border:0;text-align:center; padding:0.2em;min-width:2em;position:relative;left:-1em;top:-.5ex\">-34</td>\n",
    "<td style=\"border:0;text-align:center; padding:0.2em;min-width:2em;position:relative;left:-1em;top:-.5ex\">-33</td>\n",
    "<td style=\"border:0;text-align:center; padding:0.2em;min-width:2em;position:relative;left:-1em;top:-.5ex\">-32</td>\n",
    "<td style=\"border:0;text-align:center; padding:0.2em;min-width:2em;position:relative;left:-1em;top:-.5ex\">-31</td>\n",
    "<td style=\"border:0;text-align:center; padding:0.2em;min-width:2em;position:relative;left:-1em;top:-.5ex\">-30</td>\n",
    "<td style=\"border:0;text-align:center; padding:0.2em;min-width:2em;position:relative;left:-1em;top:-.5ex\">-29</td>\n",
    "<td style=\"border:0;text-align:center; padding:0.2em;min-width:2em;position:relative;left:-1em;top:-.5ex\">-28</td>\n",
    "<td style=\"border:0;text-align:center; padding:0.2em;min-width:2em;position:relative;left:-1em;top:-.5ex\">-27</td>\n",
    "<td style=\"border:0;text-align:center; padding:0.2em;min-width:2em;position:relative;left:-1em;top:-.5ex\">-26</td>\n",
    "<td style=\"border:0;text-align:center; padding:0.2em;min-width:2em;position:relative;left:-1em;top:-.5ex\">-25</td>\n",
    "<td style=\"border:0;text-align:center; padding:0.2em;min-width:2em;position:relative;left:-1em;top:-.5ex\">-24</td>\n",
    "<td style=\"border:0;text-align:center; padding:0.2em;min-width:2em;position:relative;left:-1em;top:-.5ex\">-23</td>\n",
    "<td style=\"border:0;text-align:center; padding:0.2em;min-width:2em;position:relative;left:-1em;top:-.5ex\">-22</td>\n",
    "<td style=\"border:0;text-align:center; padding:0.2em;min-width:2em;position:relative;left:-1em;top:-.5ex\">-21</td>\n",
    "<td style=\"border:0;text-align:center; padding:0.2em;min-width:2em;position:relative;left:-1em;top:-.5ex\">-20</td>\n",
    "<td style=\"border:0;text-align:center; padding:0.2em;min-width:2em;position:relative;left:-1em;top:-.5ex\">-19</td>\n",
    "<td style=\"border:0;text-align:center; padding:0.2em;min-width:2em;position:relative;left:-1em;top:-.5ex\">-18</td>\n",
    "<td style=\"border:0;text-align:center; padding:0.2em;min-width:2em;position:relative;left:-1em;top:-.5ex\">-17</td>\n",
    "<td style=\"border:0;text-align:center; padding:0.2em;min-width:2em;position:relative;left:-1em;top:-.5ex\">-16</td>\n",
    "<td style=\"border:0;text-align:center; padding:0.2em;min-width:2em;position:relative;left:-1em;top:-.5ex\">-15</td>\n",
    "<td style=\"border:0;text-align:center; padding:0.2em;min-width:2em;position:relative;left:-1em;top:-.5ex\">-14</td>\n",
    "<td style=\"border:0;text-align:center; padding:0.2em;min-width:2em;position:relative;left:-1em;top:-.5ex\">-13</td>\n",
    "<td style=\"border:0;text-align:center; padding:0.2em;min-width:2em;position:relative;left:-1em;top:-.5ex\">-12</td>\n",
    "<td style=\"border:0;text-align:center; padding:0.2em;min-width:2em;position:relative;left:-1em;top:-.5ex\">-11</td>\n",
    "<td style=\"border:0;text-align:center; padding:0.2em;min-width:2em;position:relative;left:-1em;top:-.5ex\">-10</td>\n",
    "<td style=\"border:0;text-align:center; padding:0.2em;min-width:2em;position:relative;left:-1em;top:-.5ex\">-9</td>\n",
    "<td style=\"border:0;text-align:center; padding:0.2em;min-width:2em;position:relative;left:-1em;top:-.5ex\">-8</td>\n",
    "<td style=\"border:0;text-align:center; padding:0.2em;min-width:2em;position:relative;left:-1em;top:-.5ex\">-7</td>\n",
    "<td style=\"border:0;text-align:center; padding:0.2em;min-width:2em;position:relative;left:-1em;top:-.5ex\">-6</td>\n",
    "<td style=\"border:0;text-align:center; padding:0.2em;min-width:2em;position:relative;left:-1em;top:-.5ex\">-5</td>\n",
    "<td style=\"border:0;text-align:center; padding:0.2em;min-width:2em;position:relative;left:-1em;top:-.5ex\">-4</td>\n",
    "<td style=\"border:0;text-align:center; padding:0.2em;min-width:2em;position:relative;left:-1em;top:-.5ex\">-3</td>\n",
    "<td style=\"border:0;text-align:center; padding:0.2em;min-width:2em;position:relative;left:-1em;top:-.5ex\">-2</td>\n",
    "<td style=\"border:0;text-align:center; padding:0.2em;min-width:2em;position:relative;left:-1em;top:-.5ex\">-1</td>\n",
    "</tr>\n",
    "</table>"
   ]
  },
  {
   "cell_type": "code",
   "execution_count": null,
   "metadata": {
    "collapsed": false
   },
   "outputs": [],
   "source": [
    "len(word)"
   ]
  },
  {
   "cell_type": "code",
   "execution_count": null,
   "metadata": {
    "collapsed": false
   },
   "outputs": [],
   "source": [
    "word[0:9] # a new string"
   ]
  },
  {
   "cell_type": "code",
   "execution_count": null,
   "metadata": {
    "collapsed": false
   },
   "outputs": [],
   "source": [
    "word[9:16]"
   ]
  },
  {
   "cell_type": "code",
   "execution_count": null,
   "metadata": {
    "collapsed": true
   },
   "outputs": [],
   "source": [
    "word[:16] # from 0 by default"
   ]
  },
  {
   "cell_type": "code",
   "execution_count": null,
   "metadata": {
    "collapsed": true
   },
   "outputs": [],
   "source": [
    "word[0:2000]"
   ]
  },
  {
   "cell_type": "code",
   "execution_count": null,
   "metadata": {
    "collapsed": false
   },
   "outputs": [],
   "source": [
    "word[0:-14]"
   ]
  },
  {
   "cell_type": "code",
   "execution_count": null,
   "metadata": {
    "collapsed": true
   },
   "outputs": [],
   "source": [
    "word[16:-14] "
   ]
  },
  {
   "cell_type": "code",
   "execution_count": null,
   "metadata": {
    "collapsed": false
   },
   "outputs": [],
   "source": [
    "word[16:] # from 16 to the end (ie by default: its length)"
   ]
  },
  {
   "cell_type": "code",
   "execution_count": null,
   "metadata": {
    "collapsed": false
   },
   "outputs": [],
   "source": [
    "word[20:2000] # Graceful handling when slicing. Thanks!"
   ]
  },
  {
   "cell_type": "code",
   "execution_count": null,
   "metadata": {
    "collapsed": false
   },
   "outputs": [],
   "source": [
    "word[:5] = 'Duper' # Nope. Still immutable"
   ]
  },
  {
   "cell_type": "markdown",
   "metadata": {},
   "source": [
    "Finally,"
   ]
  },
  {
   "cell_type": "code",
   "execution_count": null,
   "metadata": {
    "collapsed": false
   },
   "outputs": [],
   "source": [
    "word[:] # make a copy"
   ]
  },
  {
   "cell_type": "code",
   "execution_count": null,
   "metadata": {
    "collapsed": false
   },
   "outputs": [],
   "source": [
    "v1 = 'Hello Python!'\n",
    "v2 = v1[:]\n",
    "v1 is v2"
   ]
  },
  {
   "cell_type": "markdown",
   "metadata": {},
   "source": [
    "Strings are _immutable_, ok, but here Python was smart enough to save us the space in memory!"
   ]
  },
  {
   "cell_type": "code",
   "execution_count": null,
   "metadata": {
    "collapsed": false
   },
   "outputs": [],
   "source": [
    "word = 'Hello Python!'\n",
    "c1 = word[6:-1]\n",
    "c2 = word[6:-1]\n",
    "print(c1)\n",
    "print(c2)\n",
    "c1 is c2"
   ]
  },
  {
   "cell_type": "markdown",
   "metadata": {},
   "source": [
    "---\n",
    "## Lists\n",
    "\n",
    "Our first compound data type: Grouping _things_ together.\n",
    "\n",
    "A list is denoted using comma-separated values (items) between square brackets.\n",
    "\n",
    "A list might contain items of different types, but usually the items all have the same type."
   ]
  },
  {
   "cell_type": "code",
   "execution_count": null,
   "metadata": {
    "collapsed": true
   },
   "outputs": [],
   "source": [
    "squares = [1, 4, 9, 16, 25]"
   ]
  },
  {
   "cell_type": "markdown",
   "metadata": {},
   "source": [
    "Guess what..."
   ]
  },
  {
   "cell_type": "code",
   "execution_count": null,
   "metadata": {
    "collapsed": true
   },
   "outputs": [],
   "source": [
    "squares[0] # indexing returns the item"
   ]
  },
  {
   "cell_type": "code",
   "execution_count": null,
   "metadata": {
    "collapsed": true
   },
   "outputs": [],
   "source": [
    "squares[-1]"
   ]
  },
  {
   "cell_type": "code",
   "execution_count": null,
   "metadata": {
    "collapsed": true
   },
   "outputs": [],
   "source": [
    "squares[-3:]  # slicing returns a new list"
   ]
  },
  {
   "cell_type": "code",
   "execution_count": null,
   "metadata": {
    "collapsed": true
   },
   "outputs": [],
   "source": [
    "squares[:] # a copy"
   ]
  },
  {
   "cell_type": "code",
   "execution_count": null,
   "metadata": {
    "collapsed": true
   },
   "outputs": [],
   "source": [
    "list1 = [1,2,3,4]\n",
    "list2 = [1,2,3,4]\n",
    "list1 is list2"
   ]
  },
  {
   "cell_type": "code",
   "execution_count": null,
   "metadata": {
    "collapsed": true
   },
   "outputs": [],
   "source": [
    "list3 = list1[:]\n",
    "list1 is list3"
   ]
  },
  {
   "cell_type": "code",
   "execution_count": null,
   "metadata": {
    "collapsed": false
   },
   "outputs": [],
   "source": [
    "squares + [36, 49, 64, 81, 100] # Concatenation. It's a new list\n"
   ]
  },
  {
   "cell_type": "code",
   "execution_count": null,
   "metadata": {
    "collapsed": false
   },
   "outputs": [],
   "source": [
    "squares"
   ]
  },
  {
   "cell_type": "markdown",
   "metadata": {},
   "source": [
    "A list is _mutable_."
   ]
  },
  {
   "cell_type": "code",
   "execution_count": null,
   "metadata": {
    "collapsed": true
   },
   "outputs": [],
   "source": [
    "cubes = [1, 8, 27, 65, 125]  # oops"
   ]
  },
  {
   "cell_type": "code",
   "execution_count": null,
   "metadata": {
    "collapsed": false
   },
   "outputs": [],
   "source": [
    "cubes[3] = 4 ** 3  # replace the wrong value\n",
    "print(cubes)"
   ]
  },
  {
   "cell_type": "markdown",
   "metadata": {},
   "source": [
    "Mutable... ok... can I append items to it?"
   ]
  },
  {
   "cell_type": "code",
   "execution_count": null,
   "metadata": {
    "collapsed": false
   },
   "outputs": [],
   "source": [
    "justsaying = [\"Grammar, \", \"the difference between \", \"knowing you're shit and \",\"... \"]\n",
    "print(justsaying)"
   ]
  },
  {
   "cell_type": "code",
   "execution_count": null,
   "metadata": {
    "collapsed": false
   },
   "outputs": [],
   "source": [
    "justsaying.append(\"knowing your shit\")\n",
    "print(justsaying)"
   ]
  },
  {
   "cell_type": "code",
   "execution_count": null,
   "metadata": {
    "collapsed": false
   },
   "outputs": [],
   "source": [
    "''.join(justsaying)"
   ]
  },
  {
   "cell_type": "markdown",
   "metadata": {},
   "source": [
    "Does assignment works with slicing too?"
   ]
  },
  {
   "cell_type": "code",
   "execution_count": null,
   "metadata": {
    "collapsed": false
   },
   "outputs": [],
   "source": [
    "letters = ['a', 'b', 'c', 'd', 'e', 'f', 'g']\n",
    "letters[2:5]"
   ]
  },
  {
   "cell_type": "code",
   "execution_count": null,
   "metadata": {
    "collapsed": true
   },
   "outputs": [],
   "source": [
    "letters[2:5] = ['C','D','E']"
   ]
  },
  {
   "cell_type": "code",
   "execution_count": null,
   "metadata": {
    "collapsed": false
   },
   "outputs": [],
   "source": [
    "letters"
   ]
  },
  {
   "cell_type": "code",
   "execution_count": null,
   "metadata": {
    "collapsed": false
   },
   "outputs": [],
   "source": [
    "letters[2:5] = []\n",
    "letters"
   ]
  },
  {
   "cell_type": "code",
   "execution_count": null,
   "metadata": {
    "collapsed": false
   },
   "outputs": [],
   "source": [
    "letters[2:2] = ['BOOM']\n",
    "letters"
   ]
  },
  {
   "cell_type": "code",
   "execution_count": null,
   "metadata": {
    "collapsed": true
   },
   "outputs": [],
   "source": [
    "letters[2:2] = 'BOOM'\n",
    "letters"
   ]
  },
  {
   "cell_type": "code",
   "execution_count": null,
   "metadata": {
    "collapsed": true
   },
   "outputs": [],
   "source": [
    "list('BOOM') # Getting each letters as list. Convenient!"
   ]
  },
  {
   "cell_type": "markdown",
   "metadata": {},
   "source": [
    "So"
   ]
  },
  {
   "cell_type": "code",
   "execution_count": null,
   "metadata": {
    "collapsed": false
   },
   "outputs": [],
   "source": [
    "ponctuation = list(\"Let's eat Grandma\")\n",
    "print(ponctuation)"
   ]
  },
  {
   "cell_type": "code",
   "execution_count": null,
   "metadata": {
    "collapsed": false
   },
   "outputs": [],
   "source": [
    "ponctuation[9]"
   ]
  },
  {
   "cell_type": "code",
   "execution_count": null,
   "metadata": {
    "collapsed": true
   },
   "outputs": [],
   "source": [
    "ponctuation[9] = ', '"
   ]
  },
  {
   "cell_type": "code",
   "execution_count": null,
   "metadata": {
    "collapsed": false
   },
   "outputs": [],
   "source": [
    "''.join(ponctuation)"
   ]
  },
  {
   "cell_type": "markdown",
   "metadata": {},
   "source": [
    "---\n",
    "## First program"
   ]
  },
  {
   "cell_type": "code",
   "execution_count": null,
   "metadata": {
    "collapsed": true
   },
   "outputs": [],
   "source": [
    "# Fibonacci series:\n",
    "# the sum of two elements defines the next\n",
    "a, b = 0, 1\n",
    "while b < 10:\n",
    "    print(b)\n",
    "    a, b = b, a+b"
   ]
  },
  {
   "cell_type": "markdown",
   "metadata": {},
   "source": [
    "Updating the output..."
   ]
  },
  {
   "cell_type": "code",
   "execution_count": 3,
   "metadata": {
    "collapsed": false
   },
   "outputs": [
    {
     "name": "stdout",
     "output_type": "stream",
     "text": [
      "The square value of 256 is 65536\n"
     ]
    }
   ],
   "source": [
    "i = 256\n",
    "print('The square value of',i,'is', i*i ) # Python adds the spaces. Thanks!"
   ]
  },
  {
   "cell_type": "code",
   "execution_count": 4,
   "metadata": {
    "collapsed": false
   },
   "outputs": [
    {
     "name": "stdout",
     "output_type": "stream",
     "text": [
      "1,1,2,3,5,8,13,21,34,55,89,144,233,377,610,987,"
     ]
    }
   ],
   "source": [
    "a, b = 0, 1\n",
    "while b < 1000:\n",
    "    print(b, end=',')\n",
    "    a, b = b, a+b"
   ]
  },
  {
   "cell_type": "markdown",
   "metadata": {},
   "source": [
    "---\n",
    "## Second program\n",
    "\n",
    "Go ahead and check the [test.py](https://raw.githubusercontent.com/NBISweden/PythonCourse/vt17/test.py) that you (should) have run in the preliminary steps of this class."
   ]
  },
  {
   "cell_type": "markdown",
   "metadata": {},
   "source": [
    "\n",
    "\n",
    "List can be nested"
   ]
  },
  {
   "cell_type": "code",
   "execution_count": 6,
   "metadata": {
    "collapsed": false
   },
   "outputs": [],
   "source": [
    "a = [1,2,3]\n",
    "b = [4,5,6]\n",
    "c = [7,8,9]\n",
    "phone_quadrant = [a,b,c]"
   ]
  },
  {
   "cell_type": "code",
   "execution_count": 7,
   "metadata": {
    "collapsed": false
   },
   "outputs": [
    {
     "name": "stdout",
     "output_type": "stream",
     "text": [
      "[[1, 2, 3], [4, 5, 6], [7, 8, 9]]\n"
     ]
    }
   ],
   "source": [
    "print(phone_quadrant)"
   ]
  }
 ],
 "metadata": {
  "kernelspec": {
   "display_name": "Python 3",
   "language": "python",
   "name": "python3"
  },
  "language_info": {
   "codemirror_mode": {
    "name": "ipython",
    "version": 3
   },
   "file_extension": ".py",
   "mimetype": "text/x-python",
   "name": "python",
   "nbconvert_exporter": "python",
   "pygments_lexer": "ipython3",
   "version": "3.5.0"
  }
 },
 "nbformat": 4,
 "nbformat_minor": 2
}
