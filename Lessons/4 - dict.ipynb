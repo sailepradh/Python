{
 "cells": [
  {
   "cell_type": "markdown",
   "metadata": {},
   "source": [
    "<nav style=\"box-sizing:border-box;background-color:#2b5b84;background:linear-gradient(0deg, white 0%, #2b5b84 5%);padding:1em 3em;line-height:1.4;display:flex;justify-content:center;align-items:center;font-size:1em;\">\n",
    "\t    <a href=\"https://www.scilifelab.se/education/courses/\" style=\"text-decoration:none;display:inline-block;margin-right:auto;border:0;\">\n",
    "\t      <img src=\"https://nbisweden.github.io/PythonCourse/img/scilifelab.png\" alt=\"SciLifeLab courses\" height=\"50px\" />\n",
    "\t    </a>\n",
    "\t    <a href=\"https://nbisweden.github.io/PythonCourse/vt17/\" style=\"text-decoration:none;display:inline-block;color:#ffffff;padding:0.3em 1em;background:#3c3c3c;background:linear-gradient(0deg, #3c3c3c 0%, #222 50%, #3c3c3c 100%);border-radius:1ex 0 0 1ex;border:1px solid #080808;\"><i class=\"fa fa-fw fa-home\"></i> Home</a>\n",
    "\t    <a  href=\"https://nbisweden.github.io/PythonCourse/vt17/topics\" style=\"text-decoration:none;display:inline-block;border:1px solid #080808;border-left:0;color:#ffffff;padding:0.3em 1em;background:#3c3c3c;background:linear-gradient(0deg, #3c3c3c 0%, #222 50%, #3c3c3c 100%);\">\n",
    "\t      <i class=\"fa fa-fw fa-tasks\"></i> Topics\n",
    "\t    </a>\n",
    "\t    <a  href=\"https://nbisweden.github.io/PythonCourse/vt17/project\" style=\"text-decoration:none;display:inline-block;border:1px solid #080808;border-left:0;color:#ffffff;padding:0.3em 1em;background:#3c3c3c;background:linear-gradient(0deg, #3c3c3c 0%, #222 50%, #3c3c3c 100%);\">\n",
    "\t      <i class=\"fa fa-briefcase\"></i> Project\n",
    "\t    </a>\n",
    "\t    <a  href=\"https://nbisweden.github.io/PythonCourse/vt17/preliminary\" style=\"text-decoration:none;display:inline-block;border:1px solid #080808;border-left:0;color:#ffffff;padding:0.3em 1em;background:#3c3c3c;background:linear-gradient(0deg, #3c3c3c 0%, #222 50%, #3c3c3c 100%);\">\n",
    "\t      <i class=\"fa fa-fw fa-hourglass-start\"></i> Preliminaries\n",
    "\t    </a>\n",
    "\t    <a  href=\"https://nbisweden.github.io/PythonCourse/vt17/help\" style=\"text-decoration:none;display:inline-block;border:1px solid #080808;border-left:0;color:#ffffff;padding:0.3em 1em;background:#3c3c3c;background:linear-gradient(0deg, #3c3c3c 0%, #222 50%, #3c3c3c 100%);border-radius:0 1ex 1ex 0;\">\n",
    "\t      <i class=\"fa fa-fw fa-support\"></i> Help\n",
    "\t    </a>\n",
    "\t    <a href=\"https://nbis.se\" style=\"text-decoration:none;display:inline-block;margin-left:auto;border:0;\">\n",
    "\t      <img src=\"https://nbisweden.github.io/PythonCourse/img/nbis.png\" alt=\"NBIS\" height=\"50px\" />\n",
    "\t    </a>\n",
    "</nav>\n",
    "\n",
    "<h1 style=\"text-align:center\">Introduction to Python<small> - VT17</small></h1>\n",
    "\n",
    "Jupyter Notebooks are used to save the terminal output from the commands we potentially demonstrated in class.\n",
    "\n",
    "It conveniently allows you to re-run the session.\n",
    "\n",
    "You can also open a terminal, and start your `python` interpreter, by issuing the command:\n",
    "\n",
    "```\n",
    "$ python\n",
    "Python 3.5.0 (default, Sep 25 2015, 16:02:14)\n",
    "...\n",
    ">>>\n",
    "```\n",
    "\n",
    "----\n",
    "\n",
    "## The `dict` type\n",
    "\n",
    "From the [documentation](https://docs.python.org/3.5/library/stdtypes.html#mapping-types-dict):\n"
   ]
  },
  {
   "cell_type": "code",
   "execution_count": 1,
   "metadata": {
    "collapsed": true
   },
   "outputs": [],
   "source": [
    "d = {'Jack': 32, 'Jane': 25, 'Jones': 'hello', 'Me': None }"
   ]
  },
  {
   "cell_type": "code",
   "execution_count": 2,
   "metadata": {
    "collapsed": false
   },
   "outputs": [
    {
     "data": {
      "text/plain": [
       "32"
      ]
     },
     "execution_count": 2,
     "metadata": {},
     "output_type": "execute_result"
    }
   ],
   "source": [
    "d['Jack']"
   ]
  },
  {
   "cell_type": "code",
   "execution_count": 3,
   "metadata": {
    "collapsed": false
   },
   "outputs": [
    {
     "ename": "KeyError",
     "evalue": "17",
     "output_type": "error",
     "traceback": [
      "\u001b[0;31m---------------------------------------------------------------------------\u001b[0m",
      "\u001b[0;31mKeyError\u001b[0m                                  Traceback (most recent call last)",
      "\u001b[0;32m<ipython-input-3-c41a75601bfa>\u001b[0m in \u001b[0;36m<module>\u001b[0;34m()\u001b[0m\n\u001b[0;32m----> 1\u001b[0;31m \u001b[0mresult\u001b[0m \u001b[0;34m=\u001b[0m \u001b[0md\u001b[0m\u001b[0;34m[\u001b[0m\u001b[0;36m17\u001b[0m\u001b[0;34m]\u001b[0m\u001b[0;34m\u001b[0m\u001b[0m\n\u001b[0m",
      "\u001b[0;31mKeyError\u001b[0m: 17"
     ]
    }
   ],
   "source": [
    "result = d[17]"
   ]
  },
  {
   "cell_type": "code",
   "execution_count": 4,
   "metadata": {
    "collapsed": false
   },
   "outputs": [
    {
     "name": "stdout",
     "output_type": "stream",
     "text": [
      "None\n"
     ]
    }
   ],
   "source": [
    "result = d.get(17)\n",
    "print(result)"
   ]
  },
  {
   "cell_type": "code",
   "execution_count": 5,
   "metadata": {
    "collapsed": false
   },
   "outputs": [
    {
     "data": {
      "text/plain": [
       "'NotFound'"
      ]
     },
     "execution_count": 5,
     "metadata": {},
     "output_type": "execute_result"
    }
   ],
   "source": [
    "result = d.get(17,'NotFound')\n",
    "result"
   ]
  },
  {
   "cell_type": "code",
   "execution_count": 6,
   "metadata": {
    "collapsed": false
   },
   "outputs": [
    {
     "name": "stdout",
     "output_type": "stream",
     "text": [
      "4405140288\n"
     ]
    }
   ],
   "source": [
    "print(id(d))\n",
    "d['Fred'] = 'Supercalifragilisticexpialidocious'"
   ]
  },
  {
   "cell_type": "code",
   "execution_count": 7,
   "metadata": {
    "collapsed": false
   },
   "outputs": [
    {
     "name": "stdout",
     "output_type": "stream",
     "text": [
      "{'Jane': 25, 'Jones': 'hello', 'Me': None, 'Jack': 32, 'Fred': 'Supercalifragilisticexpialidocious'}\n",
      "4405140288\n"
     ]
    }
   ],
   "source": [
    "print(d)\n",
    "print(id(d))"
   ]
  },
  {
   "cell_type": "markdown",
   "metadata": {},
   "source": [
    "Ok... dict are mutable"
   ]
  },
  {
   "cell_type": "code",
   "execution_count": 8,
   "metadata": {
    "collapsed": true
   },
   "outputs": [],
   "source": [
    "d['Jack'] = 1 # Overwrite"
   ]
  },
  {
   "cell_type": "code",
   "execution_count": 10,
   "metadata": {
    "collapsed": false
   },
   "outputs": [
    {
     "name": "stdout",
     "output_type": "stream",
     "text": [
      "{'Jane': 25, 'Jones': 'hello', 'Me': None, 'Jack': 3, 'Fred': 'Supercalifragilisticexpialidocious'}\n"
     ]
    }
   ],
   "source": [
    "d['Jack'] += 1\n",
    "print(d)"
   ]
  },
  {
   "cell_type": "code",
   "execution_count": 11,
   "metadata": {
    "collapsed": false
   },
   "outputs": [
    {
     "ename": "KeyError",
     "evalue": "'me'",
     "output_type": "error",
     "traceback": [
      "\u001b[0;31m---------------------------------------------------------------------------\u001b[0m",
      "\u001b[0;31mKeyError\u001b[0m                                  Traceback (most recent call last)",
      "\u001b[0;32m<ipython-input-11-577600df6e0b>\u001b[0m in \u001b[0;36m<module>\u001b[0;34m()\u001b[0m\n\u001b[0;32m----> 1\u001b[0;31m \u001b[0;32mdel\u001b[0m \u001b[0md\u001b[0m\u001b[0;34m[\u001b[0m\u001b[0;34m'me'\u001b[0m\u001b[0;34m]\u001b[0m\u001b[0;34m\u001b[0m\u001b[0m\n\u001b[0m",
      "\u001b[0;31mKeyError\u001b[0m: 'me'"
     ]
    }
   ],
   "source": [
    "del d['me']"
   ]
  },
  {
   "cell_type": "code",
   "execution_count": 12,
   "metadata": {
    "collapsed": false
   },
   "outputs": [
    {
     "name": "stdout",
     "output_type": "stream",
     "text": [
      "{'Jane': 25, 'Jones': 'hello', 'Jack': 3, 'Fred': 'Supercalifragilisticexpialidocious'}\n"
     ]
    }
   ],
   "source": [
    "del d['Me']\n",
    "print(d)"
   ]
  },
  {
   "cell_type": "markdown",
   "metadata": {},
   "source": [
    "Maybe not printed in the same order the mappings were entered. Nevermind."
   ]
  },
  {
   "cell_type": "code",
   "execution_count": 13,
   "metadata": {
    "collapsed": false
   },
   "outputs": [
    {
     "data": {
      "text/plain": [
       "True"
      ]
     },
     "execution_count": 13,
     "metadata": {},
     "output_type": "execute_result"
    }
   ],
   "source": [
    "'Fred' in d"
   ]
  },
  {
   "cell_type": "code",
   "execution_count": 14,
   "metadata": {
    "collapsed": false
   },
   "outputs": [
    {
     "data": {
      "text/plain": [
       "False"
      ]
     },
     "execution_count": 14,
     "metadata": {},
     "output_type": "execute_result"
    }
   ],
   "source": [
    "'fred' in d"
   ]
  },
  {
   "cell_type": "markdown",
   "metadata": {},
   "source": [
    "'fred' and 'Fred' don't have the same hash values"
   ]
  },
  {
   "cell_type": "code",
   "execution_count": 15,
   "metadata": {
    "collapsed": false
   },
   "outputs": [
    {
     "name": "stdout",
     "output_type": "stream",
     "text": [
      "('h1:', -4328466044234677201, 'equals h2', -509558383520783665, '?', False)\n"
     ]
    }
   ],
   "source": [
    "h1 = hash('Fred')\n",
    "h2 = hash('fred')\n",
    "print('h1:',h1,'equals h2',h2,'?', h1==h2)"
   ]
  },
  {
   "cell_type": "code",
   "execution_count": 16,
   "metadata": {
    "collapsed": false
   },
   "outputs": [
    {
     "name": "stdout",
     "output_type": "stream",
     "text": [
      "['Jane', 'Jones', 'Jack', 'Fred']\n"
     ]
    }
   ],
   "source": [
    "print(d.keys())"
   ]
  },
  {
   "cell_type": "code",
   "execution_count": 17,
   "metadata": {
    "collapsed": false
   },
   "outputs": [
    {
     "name": "stdout",
     "output_type": "stream",
     "text": [
      "[25, 'hello', 3, 'Supercalifragilisticexpialidocious']\n"
     ]
    }
   ],
   "source": [
    "print(d.values())"
   ]
  },
  {
   "cell_type": "markdown",
   "metadata": {},
   "source": [
    "dict_keys and dict_values ???\n",
    "Oh...is it like range? i.e. a convenient type for iteration?"
   ]
  },
  {
   "cell_type": "code",
   "execution_count": 18,
   "metadata": {
    "collapsed": false
   },
   "outputs": [
    {
     "name": "stdout",
     "output_type": "stream",
     "text": [
      "('Key', 'Jane')\n",
      "('Key', 'Jones')\n",
      "('Key', 'Jack')\n",
      "('Key', 'Fred')\n"
     ]
    }
   ],
   "source": [
    "for k in d.keys():\n",
    "    print('Key',k)"
   ]
  },
  {
   "cell_type": "code",
   "execution_count": 19,
   "metadata": {
    "collapsed": false
   },
   "outputs": [
    {
     "name": "stdout",
     "output_type": "stream",
     "text": [
      "('Value:', 25)\n",
      "('Value:', 'hello')\n",
      "('Value:', 3)\n",
      "('Value:', 'Supercalifragilisticexpialidocious')\n"
     ]
    }
   ],
   "source": [
    "for v in d.values():\n",
    "    print('Value:',v)"
   ]
  },
  {
   "cell_type": "code",
   "execution_count": 20,
   "metadata": {
    "collapsed": false
   },
   "outputs": [
    {
     "name": "stdout",
     "output_type": "stream",
     "text": [
      "('Key:', 'Jane', ' | Value:', 25)\n",
      "('Key:', 'Jones', ' | Value:', 'hello')\n",
      "('Key:', 'Jack', ' | Value:', 3)\n",
      "('Key:', 'Fred', ' | Value:', 'Supercalifragilisticexpialidocious')\n"
     ]
    }
   ],
   "source": [
    "for k,v in d.items(): # pair iterator\n",
    "    print('Key:',k,' | Value:',v)"
   ]
  },
  {
   "cell_type": "code",
   "execution_count": 21,
   "metadata": {
    "collapsed": false
   },
   "outputs": [
    {
     "name": "stdout",
     "output_type": "stream",
     "text": [
      "{'Jane': 25, 'Jones': 'hello', 'Jack': 3, 'Fred': 'Supercalifragilisticexpialidocious'}\n",
      "{'Jones': 'hello', 'Jack': 3, 'new-key': 'some-value', 'Jane': 2000, 'Fred': 'Supercalifragilisticexpialidocious'}\n"
     ]
    }
   ],
   "source": [
    "print(d)\n",
    "d.update( {'new-key':'some-value', 'Jane': 2000  } )\n",
    "print(d)"
   ]
  },
  {
   "cell_type": "markdown",
   "metadata": {},
   "source": [
    "Go back to the exercises and print the number of movies per category."
   ]
  }
 ],
 "metadata": {
  "kernelspec": {
   "display_name": "Python [Root]",
   "language": "python",
   "name": "Python [Root]"
  },
  "language_info": {
   "codemirror_mode": {
    "name": "ipython",
    "version": 2
   },
   "file_extension": ".py",
   "mimetype": "text/x-python",
   "name": "python",
   "nbconvert_exporter": "python",
   "pygments_lexer": "ipython2",
   "version": "2.7.11"
  }
 },
 "nbformat": 4,
 "nbformat_minor": 2
}
